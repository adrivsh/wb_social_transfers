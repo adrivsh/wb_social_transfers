{
 "cells": [
  {
   "cell_type": "markdown",
   "metadata": {},
   "source": [
    "# Pull data from the WB data API and stores it into a local csv file for further processing"
   ]
  },
  {
   "cell_type": "code",
   "execution_count": 1,
   "metadata": {
    "collapsed": false
   },
   "outputs": [],
   "source": [
    "import os\n",
    "import pandas as pd\n",
    "import numpy as np\n",
    "from pandas_datareader import wb\n",
    "%load_ext autoreload\n",
    "%autoreload 2"
   ]
  },
  {
   "cell_type": "code",
   "execution_count": 2,
   "metadata": {
    "collapsed": true
   },
   "outputs": [],
   "source": [
    "# WB country name translation\n",
    "any_name_to_wb_name = pd.read_csv(\"../git/country_names/out/any_name_to_wb_name.csv\",index_col=\"any\",\n",
    "                                  squeeze=True, encoding=\"utf-8\")"
   ]
  },
  {
   "cell_type": "code",
   "execution_count": 3,
   "metadata": {
    "collapsed": false
   },
   "outputs": [],
   "source": [
    "cwd = os.getcwd()\n",
    "os.chdir(\"../git/wb_api_wrapper/\")\n",
    "from  wb_api_wrapper import * #Import functions to obtain World Bank data from the web and code to rename country names\n",
    "os.chdir(cwd) #Get back to initial working directory"
   ]
  },
  {
   "cell_type": "markdown",
   "metadata": {},
   "source": [
    "## Now we start pulling WB data off the internet using the web api wrapper"
   ]
  },
  {
   "cell_type": "markdown",
   "metadata": {},
   "source": [
    "## Look for the income share of the  bottom quintile"
   ]
  },
  {
   "cell_type": "code",
   "execution_count": 4,
   "metadata": {
    "collapsed": false,
    "scrolled": true
   },
   "outputs": [
    {
     "name": "stderr",
     "output_type": "stream",
     "text": [
      "/Users/steffen/anaconda/lib/python3.5/site-packages/pandas_datareader/wb.py:258: FutureWarning: sort(columns=....) is deprecated, use sort_values(by=.....)\n",
      "  data = data.sort(columns='id')\n"
     ]
    },
    {
     "data": {
      "text/html": [
       "<div>\n",
       "<table border=\"1\" class=\"dataframe\">\n",
       "  <thead>\n",
       "    <tr style=\"text-align: right;\">\n",
       "      <th></th>\n",
       "      <th>id</th>\n",
       "      <th>name</th>\n",
       "      <th>source</th>\n",
       "    </tr>\n",
       "  </thead>\n",
       "  <tbody>\n",
       "    <tr>\n",
       "      <th>137</th>\n",
       "      <td>3.0.IncShr.q1</td>\n",
       "      <td>Income Share of First Quintile</td>\n",
       "      <td>LAC Equity Lab</td>\n",
       "    </tr>\n",
       "    <tr>\n",
       "      <th>138</th>\n",
       "      <td>3.0.IncShr.q2</td>\n",
       "      <td>Income Share of Second Quintile</td>\n",
       "      <td>LAC Equity Lab</td>\n",
       "    </tr>\n",
       "    <tr>\n",
       "      <th>139</th>\n",
       "      <td>3.0.IncShr.q3</td>\n",
       "      <td>Income Share of Third Quintile</td>\n",
       "      <td>LAC Equity Lab</td>\n",
       "    </tr>\n",
       "    <tr>\n",
       "      <th>140</th>\n",
       "      <td>3.0.IncShr.q4</td>\n",
       "      <td>Income Share of Fourth Quintile</td>\n",
       "      <td>LAC Equity Lab</td>\n",
       "    </tr>\n",
       "    <tr>\n",
       "      <th>141</th>\n",
       "      <td>3.0.IncShr.q5</td>\n",
       "      <td>Income Share of Fifth Quintile</td>\n",
       "      <td>LAC Equity Lab</td>\n",
       "    </tr>\n",
       "    <tr>\n",
       "      <th>9881</th>\n",
       "      <td>SI.DST.02ND.20</td>\n",
       "      <td>Income share held by second 20%</td>\n",
       "      <td>World Development Indicators</td>\n",
       "    </tr>\n",
       "    <tr>\n",
       "      <th>9882</th>\n",
       "      <td>SI.DST.03RD.20</td>\n",
       "      <td>Income share held by third 20%</td>\n",
       "      <td>World Development Indicators</td>\n",
       "    </tr>\n",
       "    <tr>\n",
       "      <th>9883</th>\n",
       "      <td>SI.DST.04TH.20</td>\n",
       "      <td>Income share held by fourth 20%</td>\n",
       "      <td>World Development Indicators</td>\n",
       "    </tr>\n",
       "    <tr>\n",
       "      <th>9884</th>\n",
       "      <td>SI.DST.05TH.20</td>\n",
       "      <td>Income share held by highest 20%</td>\n",
       "      <td>World Development Indicators</td>\n",
       "    </tr>\n",
       "    <tr>\n",
       "      <th>9885</th>\n",
       "      <td>SI.DST.10TH.10</td>\n",
       "      <td>Income share held by highest 10%</td>\n",
       "      <td>World Development Indicators</td>\n",
       "    </tr>\n",
       "    <tr>\n",
       "      <th>9886</th>\n",
       "      <td>SI.DST.FRST.10</td>\n",
       "      <td>Income share held by lowest 10%</td>\n",
       "      <td>World Development Indicators</td>\n",
       "    </tr>\n",
       "    <tr>\n",
       "      <th>9887</th>\n",
       "      <td>SI.DST.FRST.20</td>\n",
       "      <td>Income share held by lowest 20%</td>\n",
       "      <td>World Development Indicators</td>\n",
       "    </tr>\n",
       "  </tbody>\n",
       "</table>\n",
       "</div>"
      ],
      "text/plain": [
       "                  id                              name  \\\n",
       "137    3.0.IncShr.q1    Income Share of First Quintile   \n",
       "138    3.0.IncShr.q2   Income Share of Second Quintile   \n",
       "139    3.0.IncShr.q3    Income Share of Third Quintile   \n",
       "140    3.0.IncShr.q4   Income Share of Fourth Quintile   \n",
       "141    3.0.IncShr.q5    Income Share of Fifth Quintile   \n",
       "9881  SI.DST.02ND.20   Income share held by second 20%   \n",
       "9882  SI.DST.03RD.20    Income share held by third 20%   \n",
       "9883  SI.DST.04TH.20   Income share held by fourth 20%   \n",
       "9884  SI.DST.05TH.20  Income share held by highest 20%   \n",
       "9885  SI.DST.10TH.10  Income share held by highest 10%   \n",
       "9886  SI.DST.FRST.10   Income share held by lowest 10%   \n",
       "9887  SI.DST.FRST.20   Income share held by lowest 20%   \n",
       "\n",
       "                            source  \n",
       "137                 LAC Equity Lab  \n",
       "138                 LAC Equity Lab  \n",
       "139                 LAC Equity Lab  \n",
       "140                 LAC Equity Lab  \n",
       "141                 LAC Equity Lab  \n",
       "9881  World Development Indicators  \n",
       "9882  World Development Indicators  \n",
       "9883  World Development Indicators  \n",
       "9884  World Development Indicators  \n",
       "9885  World Development Indicators  \n",
       "9886  World Development Indicators  \n",
       "9887  World Development Indicators  "
      ]
     },
     "execution_count": 4,
     "metadata": {},
     "output_type": "execute_result"
    }
   ],
   "source": [
    "search_wb(\"income share\") # Search for World Bank data sets which have a description containing \"income share\""
   ]
  },
  {
   "cell_type": "markdown",
   "metadata": {},
   "source": [
    "Pull the data using get_wb_df"
   ]
  },
  {
   "cell_type": "code",
   "execution_count": 5,
   "metadata": {
    "collapsed": false,
    "scrolled": true
   },
   "outputs": [
    {
     "name": "stderr",
     "output_type": "stream",
     "text": [
      "/Users/steffen/anaconda/lib/python3.5/site-packages/pandas_datareader/wb.py:159: FutureWarning: convert_objects is deprecated.  Use the data-type specific converters pd.to_datetime, pd.to_timedelta and pd.to_numeric.\n",
      "  out = out.convert_objects(convert_numeric=True)\n"
     ]
    }
   ],
   "source": [
    "wb_data_inc20 = get_wb_df(\"SI.DST.FRST.20\", \"income bottom quintile\") # This pulls the income share of the bottom quintile"
   ]
  },
  {
   "cell_type": "code",
   "execution_count": 6,
   "metadata": {
    "collapsed": false
   },
   "outputs": [],
   "source": [
    "wb_data_inc20 = mrv(wb_data_inc20,include_year=True)"
   ]
  },
  {
   "cell_type": "code",
   "execution_count": 7,
   "metadata": {
    "collapsed": false
   },
   "outputs": [],
   "source": [
    "wb_data_inc20['value'] = wb_data_inc20['value']/100"
   ]
  },
  {
   "cell_type": "code",
   "execution_count": 8,
   "metadata": {
    "collapsed": false
   },
   "outputs": [
    {
     "data": {
      "text/html": [
       "<div>\n",
       "<table border=\"1\" class=\"dataframe\">\n",
       "  <thead>\n",
       "    <tr style=\"text-align: right;\">\n",
       "      <th></th>\n",
       "      <th>value</th>\n",
       "      <th>year</th>\n",
       "    </tr>\n",
       "    <tr>\n",
       "      <th>country</th>\n",
       "      <th></th>\n",
       "      <th></th>\n",
       "    </tr>\n",
       "  </thead>\n",
       "  <tbody>\n",
       "    <tr>\n",
       "      <th>Albania</th>\n",
       "      <td>0.0885</td>\n",
       "      <td>2012</td>\n",
       "    </tr>\n",
       "    <tr>\n",
       "      <th>Algeria</th>\n",
       "      <td>0.0696</td>\n",
       "      <td>1995</td>\n",
       "    </tr>\n",
       "    <tr>\n",
       "      <th>Angola</th>\n",
       "      <td>0.0543</td>\n",
       "      <td>2008</td>\n",
       "    </tr>\n",
       "  </tbody>\n",
       "</table>\n",
       "</div>"
      ],
      "text/plain": [
       "          value  year\n",
       "country              \n",
       "Albania  0.0885  2012\n",
       "Algeria  0.0696  1995\n",
       "Angola   0.0543  2008"
      ]
     },
     "execution_count": 8,
     "metadata": {},
     "output_type": "execute_result"
    }
   ],
   "source": [
    "wb_data_inc20.head(3)"
   ]
  },
  {
   "cell_type": "code",
   "execution_count": 9,
   "metadata": {
    "collapsed": false
   },
   "outputs": [],
   "source": [
    "wb_data_inc20.rename(columns={'value':'Income share of bootom 20% [SI.DST.FRST.20]'}, inplace=True)"
   ]
  },
  {
   "cell_type": "markdown",
   "metadata": {},
   "source": [
    "## Now look for financial savings data from FINDEX"
   ]
  },
  {
   "cell_type": "code",
   "execution_count": 10,
   "metadata": {
    "collapsed": false
   },
   "outputs": [],
   "source": [
    "# If you want to see more outpit rows/cols/content, add one of the below:\"\n",
    "# with pd.option_context('display.max_rows', 999, 'display.max_columns', 3):\n",
    "# pd.set_option('expand_frame_repr', True)\n",
    "pd.set_option('max_colwidth',200) # This command increases the maximum width of columns. It can interfer with Jupyter's ability to display all columns! It can be reste with: pd.reset_option('max_colwidth')\n",
    "#pd.reset_option('max_colwidth')"
   ]
  },
  {
   "cell_type": "code",
   "execution_count": 35,
   "metadata": {
    "collapsed": false,
    "scrolled": true
   },
   "outputs": [],
   "source": [
    "# The difference between the [w1] and [w2] and [ts] datasets are the availability of data: w1 contains 2011 data,\n",
    "# w2 2014 data and ts both years\n",
    "wb.search('.*saved at a financial');"
   ]
  },
  {
   "cell_type": "markdown",
   "metadata": {},
   "source": [
    "For savings at financial institutions, there are several indicators available which could all be interesting:\n",
    "10989 \tWP11648.1 \tSaved at a financial institution in the past year (% age 15+)\n",
    "10997 \tWP11648.8 \tSaved at a financial institution in the past year, income quintiles I (lowest) and II (% age 15+)\n",
    "11521 \tWP15165.1 \tSaved at a financial institution (% age 15+) [w2]\n",
    "11529 \tWP15165.8 \tSaved at a financial institution, income, poorest 40% (% ages 15+) [w2]\n",
    "11667 \tWP_time_04.8 \tSaved at a financial institution, income, poorest 40% (% ages 15+) [ts]\n"
   ]
  },
  {
   "cell_type": "code",
   "execution_count": 12,
   "metadata": {
    "collapsed": false,
    "scrolled": true
   },
   "outputs": [
    {
     "name": "stderr",
     "output_type": "stream",
     "text": [
      "/Users/steffen/anaconda/lib/python3.5/site-packages/pandas_datareader/wb.py:159: FutureWarning: convert_objects is deprecated.  Use the data-type specific converters pd.to_datetime, pd.to_timedelta and pd.to_numeric.\n",
      "  out = out.convert_objects(convert_numeric=True)\n"
     ]
    }
   ],
   "source": [
    "#savings_data = wb.download(indicator=['WP11648.1','WP11648.8','WP15165.1','WP15165.8','WP_time_04.8'], country='all', start=1990, end=2015)\n",
    "#savings_data_p40_w2 = get_wb_df('WP15165.8', 'Saved, poorest, w2')\n",
    "savings_data_p40 = get_wb_df('WP_time_04.8', 'Saved, poorest, ts')\n",
    "savings_data_r60 = get_wb_df('WP_time_04.9', 'Saved, poorest')"
   ]
  },
  {
   "cell_type": "code",
   "execution_count": 13,
   "metadata": {
    "collapsed": false
   },
   "outputs": [],
   "source": [
    "savings_data_p40.drop('MRV', inplace='True', level=1) #Drop the 'MRV' entry, as it messes up the further processing\n",
    "savings_data_r60.drop('MRV', inplace='True', level=1) #Drop the 'MRV' entry, as it messes up the further processing\n",
    "savings_data_p40 = mrv(savings_data_p40, include_year=True)\n",
    "savings_data_r60 = mrv(savings_data_r60, include_year=True)\n",
    "savings_data_p40['value'] = savings_data_p40['value']/100\n",
    "savings_data_r60['value'] = savings_data_r60['value']/100"
   ]
  },
  {
   "cell_type": "code",
   "execution_count": 14,
   "metadata": {
    "collapsed": false
   },
   "outputs": [
    {
     "data": {
      "text/html": [
       "<div>\n",
       "<table border=\"1\" class=\"dataframe\">\n",
       "  <thead>\n",
       "    <tr style=\"text-align: right;\">\n",
       "      <th></th>\n",
       "      <th>value</th>\n",
       "      <th>year</th>\n",
       "    </tr>\n",
       "    <tr>\n",
       "      <th>country</th>\n",
       "      <th></th>\n",
       "      <th></th>\n",
       "    </tr>\n",
       "  </thead>\n",
       "  <tbody>\n",
       "    <tr>\n",
       "      <th>Afghanistan</th>\n",
       "      <td>0.044609</td>\n",
       "      <td>2014</td>\n",
       "    </tr>\n",
       "    <tr>\n",
       "      <th>Albania</th>\n",
       "      <td>0.096454</td>\n",
       "      <td>2014</td>\n",
       "    </tr>\n",
       "  </tbody>\n",
       "</table>\n",
       "</div>"
      ],
      "text/plain": [
       "                value  year\n",
       "country                    \n",
       "Afghanistan  0.044609  2014\n",
       "Albania      0.096454  2014"
      ]
     },
     "execution_count": 14,
     "metadata": {},
     "output_type": "execute_result"
    }
   ],
   "source": [
    "savings_data_r60.head(2)"
   ]
  },
  {
   "cell_type": "code",
   "execution_count": 15,
   "metadata": {
    "collapsed": false
   },
   "outputs": [],
   "source": [
    "savings_data_p40.rename(columns={'value':'Saved at a financial institution, 40% poorest [WP_time_04.8]'}, inplace=True)\n",
    "savings_data_r60.rename(columns={'value':'Saved at a financial institution, 60% richest [WP_time_04.9]'}, inplace=True)"
   ]
  },
  {
   "cell_type": "code",
   "execution_count": 16,
   "metadata": {
    "collapsed": false,
    "scrolled": true
   },
   "outputs": [
    {
     "data": {
      "text/html": [
       "<div>\n",
       "<table border=\"1\" class=\"dataframe\">\n",
       "  <thead>\n",
       "    <tr style=\"text-align: right;\">\n",
       "      <th></th>\n",
       "      <th>Saved at a financial institution, 40% poorest [WP_time_04.8]</th>\n",
       "      <th>year</th>\n",
       "    </tr>\n",
       "    <tr>\n",
       "      <th>country</th>\n",
       "      <th></th>\n",
       "      <th></th>\n",
       "    </tr>\n",
       "  </thead>\n",
       "  <tbody>\n",
       "    <tr>\n",
       "      <th>Afghanistan</th>\n",
       "      <td>0.022336</td>\n",
       "      <td>2014</td>\n",
       "    </tr>\n",
       "    <tr>\n",
       "      <th>Albania</th>\n",
       "      <td>0.044618</td>\n",
       "      <td>2014</td>\n",
       "    </tr>\n",
       "  </tbody>\n",
       "</table>\n",
       "</div>"
      ],
      "text/plain": [
       "             Saved at a financial institution, 40% poorest [WP_time_04.8]  \\\n",
       "country                                                                     \n",
       "Afghanistan                                                      0.022336   \n",
       "Albania                                                          0.044618   \n",
       "\n",
       "             year  \n",
       "country            \n",
       "Afghanistan  2014  \n",
       "Albania      2014  "
      ]
     },
     "execution_count": 16,
     "metadata": {},
     "output_type": "execute_result"
    }
   ],
   "source": [
    "savings_data_p40.head(2)"
   ]
  },
  {
   "cell_type": "code",
   "execution_count": 17,
   "metadata": {
    "collapsed": false,
    "scrolled": true
   },
   "outputs": [
    {
     "data": {
      "text/html": [
       "<div>\n",
       "<table border=\"1\" class=\"dataframe\">\n",
       "  <thead>\n",
       "    <tr style=\"text-align: right;\">\n",
       "      <th></th>\n",
       "      <th>Saved at a financial institution, 60% richest [WP_time_04.9]</th>\n",
       "      <th>year</th>\n",
       "    </tr>\n",
       "    <tr>\n",
       "      <th>country</th>\n",
       "      <th></th>\n",
       "      <th></th>\n",
       "    </tr>\n",
       "  </thead>\n",
       "  <tbody>\n",
       "    <tr>\n",
       "      <th>Afghanistan</th>\n",
       "      <td>0.044609</td>\n",
       "      <td>2014</td>\n",
       "    </tr>\n",
       "    <tr>\n",
       "      <th>Albania</th>\n",
       "      <td>0.096454</td>\n",
       "      <td>2014</td>\n",
       "    </tr>\n",
       "  </tbody>\n",
       "</table>\n",
       "</div>"
      ],
      "text/plain": [
       "             Saved at a financial institution, 60% richest [WP_time_04.9]  \\\n",
       "country                                                                     \n",
       "Afghanistan                                                      0.044609   \n",
       "Albania                                                          0.096454   \n",
       "\n",
       "             year  \n",
       "country            \n",
       "Afghanistan  2014  \n",
       "Albania      2014  "
      ]
     },
     "execution_count": 17,
     "metadata": {},
     "output_type": "execute_result"
    }
   ],
   "source": [
    "savings_data_r60.head(2)"
   ]
  },
  {
   "cell_type": "markdown",
   "metadata": {
    "collapsed": true
   },
   "source": [
    "## World Bank WGI Good governance indicators"
   ]
  },
  {
   "cell_type": "code",
   "execution_count": 18,
   "metadata": {
    "collapsed": false
   },
   "outputs": [],
   "source": [
    "wb.search('Political Stability and Absence of Violence/Terrorism');"
   ]
  },
  {
   "cell_type": "code",
   "execution_count": 19,
   "metadata": {
    "collapsed": false
   },
   "outputs": [
    {
     "name": "stderr",
     "output_type": "stream",
     "text": [
      "/Users/steffen/anaconda/lib/python3.5/site-packages/pandas_datareader/wb.py:159: FutureWarning: convert_objects is deprecated.  Use the data-type specific converters pd.to_datetime, pd.to_timedelta and pd.to_numeric.\n",
      "  out = out.convert_objects(convert_numeric=True)\n"
     ]
    }
   ],
   "source": [
    "PV = get_wb_mrv('PV.EST', 'PV_EST')\n",
    "PV_PER_RNK = get_wb_mrv('PV.PER.RNK','PV_PER_RNK')\n",
    "PV_PER_RNK_UPPER = get_wb_mrv('PV.PER.RNK.UPPER','PV_PER_RNK_UPPER')\n",
    "PV_STD_ERR = get_wb_mrv('PV.STD.ERR','PV_STD_ERR')\n",
    "PV = pd.concat([PV,PV_PER_RNK, PV_PER_RNK_UPPER, PV_STD_ERR], axis=1)"
   ]
  },
  {
   "cell_type": "code",
   "execution_count": 20,
   "metadata": {
    "collapsed": false,
    "scrolled": true
   },
   "outputs": [
    {
     "data": {
      "text/html": [
       "<div>\n",
       "<table border=\"1\" class=\"dataframe\">\n",
       "  <thead>\n",
       "    <tr style=\"text-align: right;\">\n",
       "      <th></th>\n",
       "      <th>PV_EST</th>\n",
       "      <th>PV_PER_RNK</th>\n",
       "      <th>PV_PER_RNK_UPPER</th>\n",
       "      <th>PV_STD_ERR</th>\n",
       "    </tr>\n",
       "    <tr>\n",
       "      <th>country</th>\n",
       "      <th></th>\n",
       "      <th></th>\n",
       "      <th></th>\n",
       "      <th></th>\n",
       "    </tr>\n",
       "  </thead>\n",
       "  <tbody>\n",
       "    <tr>\n",
       "      <th>Afghanistan</th>\n",
       "      <td>-2.458067</td>\n",
       "      <td>2.912621</td>\n",
       "      <td>5.797101</td>\n",
       "      <td>0.221863</td>\n",
       "    </tr>\n",
       "    <tr>\n",
       "      <th>Albania</th>\n",
       "      <td>0.473255</td>\n",
       "      <td>61.650486</td>\n",
       "      <td>75.362320</td>\n",
       "      <td>0.204799</td>\n",
       "    </tr>\n",
       "    <tr>\n",
       "      <th>Algeria</th>\n",
       "      <td>-1.171418</td>\n",
       "      <td>10.194175</td>\n",
       "      <td>18.840580</td>\n",
       "      <td>0.209125</td>\n",
       "    </tr>\n",
       "    <tr>\n",
       "      <th>American Samoa</th>\n",
       "      <td>1.126468</td>\n",
       "      <td>89.320389</td>\n",
       "      <td>99.516907</td>\n",
       "      <td>0.320726</td>\n",
       "    </tr>\n",
       "  </tbody>\n",
       "</table>\n",
       "</div>"
      ],
      "text/plain": [
       "                  PV_EST  PV_PER_RNK  PV_PER_RNK_UPPER  PV_STD_ERR\n",
       "country                                                           \n",
       "Afghanistan    -2.458067    2.912621          5.797101    0.221863\n",
       "Albania         0.473255   61.650486         75.362320    0.204799\n",
       "Algeria        -1.171418   10.194175         18.840580    0.209125\n",
       "American Samoa  1.126468   89.320389         99.516907    0.320726"
      ]
     },
     "execution_count": 20,
     "metadata": {},
     "output_type": "execute_result"
    }
   ],
   "source": [
    "PV.head(4)"
   ]
  },
  {
   "cell_type": "code",
   "execution_count": 21,
   "metadata": {
    "collapsed": false
   },
   "outputs": [
    {
     "data": {
      "text/html": [
       "<div>\n",
       "<table border=\"1\" class=\"dataframe\">\n",
       "  <thead>\n",
       "    <tr style=\"text-align: right;\">\n",
       "      <th></th>\n",
       "      <th>id</th>\n",
       "      <th>name</th>\n",
       "      <th>source</th>\n",
       "      <th>sourceNote</th>\n",
       "      <th>sourceOrganization</th>\n",
       "      <th>topics</th>\n",
       "    </tr>\n",
       "  </thead>\n",
       "  <tbody>\n",
       "    <tr>\n",
       "      <th>5062</th>\n",
       "      <td>GE.EST</td>\n",
       "      <td>Government Effectiveness: Estimate</td>\n",
       "      <td>Worldwide Governance Indicators</td>\n",
       "      <td>Government Effectiveness captures perceptions of the quality of public services, the quality of the civil service and the degree of its independence from political pressures, the quality of policy...</td>\n",
       "      <td>b'Worldwide Governance Indicators, The World Bank'</td>\n",
       "      <td></td>\n",
       "    </tr>\n",
       "    <tr>\n",
       "      <th>5063</th>\n",
       "      <td>GE.NO.SRC</td>\n",
       "      <td>Government Effectiveness: Number of Sources</td>\n",
       "      <td>Worldwide Governance Indicators</td>\n",
       "      <td>Government Effectiveness captures perceptions of the quality of public services, the quality of the civil service and the degree of its independence from political pressures, the quality of policy...</td>\n",
       "      <td>b'Worldwide Governance Indicators, The World Bank'</td>\n",
       "      <td></td>\n",
       "    </tr>\n",
       "    <tr>\n",
       "      <th>5064</th>\n",
       "      <td>GE.PER.RNK</td>\n",
       "      <td>Government Effectiveness: Percentile Rank</td>\n",
       "      <td>Worldwide Governance Indicators</td>\n",
       "      <td>Government Effectiveness captures perceptions of the quality of public services, the quality of the civil service and the degree of its independence from political pressures, the quality of policy...</td>\n",
       "      <td>b'Worldwide Governance Indicators, The World Bank'</td>\n",
       "      <td></td>\n",
       "    </tr>\n",
       "    <tr>\n",
       "      <th>5065</th>\n",
       "      <td>GE.PER.RNK.LOWER</td>\n",
       "      <td>Government Effectiveness: Percentile Rank, Lower Bound of 90% Confidence Interval</td>\n",
       "      <td>Worldwide Governance Indicators</td>\n",
       "      <td>Government Effectiveness captures perceptions of the quality of public services, the quality of the civil service and the degree of its independence from political pressures, the quality of policy...</td>\n",
       "      <td>b'Worldwide Governance Indicators, The World Bank'</td>\n",
       "      <td></td>\n",
       "    </tr>\n",
       "    <tr>\n",
       "      <th>5066</th>\n",
       "      <td>GE.PER.RNK.UPPER</td>\n",
       "      <td>Government Effectiveness: Percentile Rank, Upper Bound of 90% Confidence Interval</td>\n",
       "      <td>Worldwide Governance Indicators</td>\n",
       "      <td>Government Effectiveness captures perceptions of the quality of public services, the quality of the civil service and the degree of its independence from political pressures, the quality of policy...</td>\n",
       "      <td>b'Worldwide Governance Indicators, The World Bank'</td>\n",
       "      <td></td>\n",
       "    </tr>\n",
       "    <tr>\n",
       "      <th>5067</th>\n",
       "      <td>GE.STD.ERR</td>\n",
       "      <td>Government Effectiveness: Standard Error</td>\n",
       "      <td>Worldwide Governance Indicators</td>\n",
       "      <td>Government Effectiveness captures perceptions of the quality of public services, the quality of the civil service and the degree of its independence from political pressures, the quality of policy...</td>\n",
       "      <td>b'Worldwide Governance Indicators, The World Bank'</td>\n",
       "      <td></td>\n",
       "    </tr>\n",
       "    <tr>\n",
       "      <th>5183</th>\n",
       "      <td>GV.GOVT.EF.ES</td>\n",
       "      <td>Government Effectiveness (estimate)</td>\n",
       "      <td>Africa Development Indicators</td>\n",
       "      <td>Government effectiveness measures the quality of public services, the quality and degree of independence from political pressures of the civil service, the quality of policy formulation and implem...</td>\n",
       "      <td>b'World Bank Institute.'</td>\n",
       "      <td></td>\n",
       "    </tr>\n",
       "    <tr>\n",
       "      <th>5184</th>\n",
       "      <td>GV.GOVT.EF.NO</td>\n",
       "      <td>Government Effectiveness (number of surveys/polls)</td>\n",
       "      <td>Africa Development Indicators</td>\n",
       "      <td>See definition GV.GOVT.EF.ES.  This is the number of surveys/polls used to derive the GV.GOVT.EF.ES.</td>\n",
       "      <td>b'World Bank Institute.'</td>\n",
       "      <td></td>\n",
       "    </tr>\n",
       "    <tr>\n",
       "      <th>5185</th>\n",
       "      <td>GV.GOVT.EF.SE</td>\n",
       "      <td>Government Effectiveness (standard error)</td>\n",
       "      <td>Africa Development Indicators</td>\n",
       "      <td>See definition GV.GOVT.EF.ES. Inherent to all Governance Indicators is a margin of error, which might vary from country to country, normally attributable to two factors: (i) cross-country differen...</td>\n",
       "      <td>b'World Bank Institute.'</td>\n",
       "      <td></td>\n",
       "    </tr>\n",
       "  </tbody>\n",
       "</table>\n",
       "</div>"
      ],
      "text/plain": [
       "                    id  \\\n",
       "5062            GE.EST   \n",
       "5063         GE.NO.SRC   \n",
       "5064        GE.PER.RNK   \n",
       "5065  GE.PER.RNK.LOWER   \n",
       "5066  GE.PER.RNK.UPPER   \n",
       "5067        GE.STD.ERR   \n",
       "5183     GV.GOVT.EF.ES   \n",
       "5184     GV.GOVT.EF.NO   \n",
       "5185     GV.GOVT.EF.SE   \n",
       "\n",
       "                                                                                   name  \\\n",
       "5062                                                 Government Effectiveness: Estimate   \n",
       "5063                                        Government Effectiveness: Number of Sources   \n",
       "5064                                          Government Effectiveness: Percentile Rank   \n",
       "5065  Government Effectiveness: Percentile Rank, Lower Bound of 90% Confidence Interval   \n",
       "5066  Government Effectiveness: Percentile Rank, Upper Bound of 90% Confidence Interval   \n",
       "5067                                           Government Effectiveness: Standard Error   \n",
       "5183                                                Government Effectiveness (estimate)   \n",
       "5184                                 Government Effectiveness (number of surveys/polls)   \n",
       "5185                                          Government Effectiveness (standard error)   \n",
       "\n",
       "                               source  \\\n",
       "5062  Worldwide Governance Indicators   \n",
       "5063  Worldwide Governance Indicators   \n",
       "5064  Worldwide Governance Indicators   \n",
       "5065  Worldwide Governance Indicators   \n",
       "5066  Worldwide Governance Indicators   \n",
       "5067  Worldwide Governance Indicators   \n",
       "5183    Africa Development Indicators   \n",
       "5184    Africa Development Indicators   \n",
       "5185    Africa Development Indicators   \n",
       "\n",
       "                                                                                                                                                                                                   sourceNote  \\\n",
       "5062  Government Effectiveness captures perceptions of the quality of public services, the quality of the civil service and the degree of its independence from political pressures, the quality of policy...   \n",
       "5063  Government Effectiveness captures perceptions of the quality of public services, the quality of the civil service and the degree of its independence from political pressures, the quality of policy...   \n",
       "5064  Government Effectiveness captures perceptions of the quality of public services, the quality of the civil service and the degree of its independence from political pressures, the quality of policy...   \n",
       "5065  Government Effectiveness captures perceptions of the quality of public services, the quality of the civil service and the degree of its independence from political pressures, the quality of policy...   \n",
       "5066  Government Effectiveness captures perceptions of the quality of public services, the quality of the civil service and the degree of its independence from political pressures, the quality of policy...   \n",
       "5067  Government Effectiveness captures perceptions of the quality of public services, the quality of the civil service and the degree of its independence from political pressures, the quality of policy...   \n",
       "5183  Government effectiveness measures the quality of public services, the quality and degree of independence from political pressures of the civil service, the quality of policy formulation and implem...   \n",
       "5184                                                                                                   See definition GV.GOVT.EF.ES.  This is the number of surveys/polls used to derive the GV.GOVT.EF.ES.     \n",
       "5185  See definition GV.GOVT.EF.ES. Inherent to all Governance Indicators is a margin of error, which might vary from country to country, normally attributable to two factors: (i) cross-country differen...   \n",
       "\n",
       "                                      sourceOrganization topics  \n",
       "5062  b'Worldwide Governance Indicators, The World Bank'         \n",
       "5063  b'Worldwide Governance Indicators, The World Bank'         \n",
       "5064  b'Worldwide Governance Indicators, The World Bank'         \n",
       "5065  b'Worldwide Governance Indicators, The World Bank'         \n",
       "5066  b'Worldwide Governance Indicators, The World Bank'         \n",
       "5067  b'Worldwide Governance Indicators, The World Bank'         \n",
       "5183                            b'World Bank Institute.'         \n",
       "5184                            b'World Bank Institute.'         \n",
       "5185                            b'World Bank Institute.'         "
      ]
     },
     "execution_count": 21,
     "metadata": {},
     "output_type": "execute_result"
    }
   ],
   "source": [
    "wb.search('Government Effectiveness')"
   ]
  },
  {
   "cell_type": "code",
   "execution_count": 22,
   "metadata": {
    "collapsed": false
   },
   "outputs": [
    {
     "name": "stderr",
     "output_type": "stream",
     "text": [
      "/Users/steffen/anaconda/lib/python3.5/site-packages/pandas_datareader/wb.py:159: FutureWarning: convert_objects is deprecated.  Use the data-type specific converters pd.to_datetime, pd.to_timedelta and pd.to_numeric.\n",
      "  out = out.convert_objects(convert_numeric=True)\n"
     ]
    }
   ],
   "source": [
    "GE = get_wb_mrv('GE.EST', 'GE_EST')\n",
    "GE_PER_RNK = get_wb_mrv('GE.PER.RNK','GE_PER_RNK')\n",
    "GE_PER_RNK_UPPER = get_wb_mrv('GE.PER.RNK.UPPER','GE_PER_RNK_UPPER')\n",
    "GE_STD_ERR = get_wb_mrv('GE.STD.ERR','GE_STD_ERR')\n",
    "GE = pd.concat([GE,GE_PER_RNK, GE_PER_RNK_UPPER, GE_STD_ERR], axis=1)"
   ]
  },
  {
   "cell_type": "code",
   "execution_count": null,
   "metadata": {
    "collapsed": true
   },
   "outputs": [],
   "source": []
  },
  {
   "cell_type": "markdown",
   "metadata": {},
   "source": [
    "### Get (locally saved) data from corruption. Take the TI Corruption Index"
   ]
  },
  {
   "cell_type": "code",
   "execution_count": 23,
   "metadata": {
    "collapsed": false
   },
   "outputs": [
    {
     "data": {
      "text/html": [
       "<div>\n",
       "<table border=\"1\" class=\"dataframe\">\n",
       "  <thead>\n",
       "    <tr style=\"text-align: right;\">\n",
       "      <th></th>\n",
       "      <th>Rank</th>\n",
       "      <th>CPI2015</th>\n",
       "      <th>wbcode</th>\n",
       "      <th>World Bank CPIA</th>\n",
       "      <th>World Economic Forum EOS</th>\n",
       "      <th>Bertelsmann Foundation TI</th>\n",
       "      <th>African Dev Bank</th>\n",
       "      <th>IMD World Competitiveness Yearbook</th>\n",
       "      <th>Bertelsmann Foundation SGI</th>\n",
       "      <th>World Justice Project ROL</th>\n",
       "      <th>...</th>\n",
       "      <th>IHS Global Insight</th>\n",
       "      <th>PERC Asia Risk Guide</th>\n",
       "      <th>Freedom House NIT</th>\n",
       "      <th>Number of Sources</th>\n",
       "      <th>Std Deviation of Sources</th>\n",
       "      <th>Standard Error</th>\n",
       "      <th>Minimum</th>\n",
       "      <th>Maximum</th>\n",
       "      <th>Lower CI</th>\n",
       "      <th>Upper CI</th>\n",
       "    </tr>\n",
       "    <tr>\n",
       "      <th>country</th>\n",
       "      <th></th>\n",
       "      <th></th>\n",
       "      <th></th>\n",
       "      <th></th>\n",
       "      <th></th>\n",
       "      <th></th>\n",
       "      <th></th>\n",
       "      <th></th>\n",
       "      <th></th>\n",
       "      <th></th>\n",
       "      <th></th>\n",
       "      <th></th>\n",
       "      <th></th>\n",
       "      <th></th>\n",
       "      <th></th>\n",
       "      <th></th>\n",
       "      <th></th>\n",
       "      <th></th>\n",
       "      <th></th>\n",
       "      <th></th>\n",
       "      <th></th>\n",
       "    </tr>\n",
       "  </thead>\n",
       "  <tbody>\n",
       "    <tr>\n",
       "      <th>Afghanistan</th>\n",
       "      <td>166</td>\n",
       "      <td>11</td>\n",
       "      <td>AFG</td>\n",
       "      <td>12.0</td>\n",
       "      <td>NaN</td>\n",
       "      <td>19.0</td>\n",
       "      <td>NaN</td>\n",
       "      <td>NaN</td>\n",
       "      <td>NaN</td>\n",
       "      <td>2.0</td>\n",
       "      <td>...</td>\n",
       "      <td>11.0</td>\n",
       "      <td>NaN</td>\n",
       "      <td>NaN</td>\n",
       "      <td>4</td>\n",
       "      <td>6.98</td>\n",
       "      <td>3.49</td>\n",
       "      <td>2</td>\n",
       "      <td>19</td>\n",
       "      <td>5.2415</td>\n",
       "      <td>16.7585</td>\n",
       "    </tr>\n",
       "    <tr>\n",
       "      <th>Albania</th>\n",
       "      <td>88</td>\n",
       "      <td>36</td>\n",
       "      <td>ALB</td>\n",
       "      <td>NaN</td>\n",
       "      <td>49.0</td>\n",
       "      <td>36.0</td>\n",
       "      <td>NaN</td>\n",
       "      <td>NaN</td>\n",
       "      <td>NaN</td>\n",
       "      <td>18.0</td>\n",
       "      <td>...</td>\n",
       "      <td>32.0</td>\n",
       "      <td>NaN</td>\n",
       "      <td>37.0</td>\n",
       "      <td>7</td>\n",
       "      <td>9.48</td>\n",
       "      <td>3.58</td>\n",
       "      <td>18</td>\n",
       "      <td>49</td>\n",
       "      <td>30.0930</td>\n",
       "      <td>41.9070</td>\n",
       "    </tr>\n",
       "  </tbody>\n",
       "</table>\n",
       "<p>2 rows × 22 columns</p>\n",
       "</div>"
      ],
      "text/plain": [
       "             Rank  CPI2015 wbcode  World Bank CPIA  World Economic Forum EOS  \\\n",
       "country                                                                        \n",
       "Afghanistan   166       11    AFG             12.0                       NaN   \n",
       "Albania        88       36    ALB              NaN                      49.0   \n",
       "\n",
       "             Bertelsmann Foundation TI  African Dev Bank  \\\n",
       "country                                                    \n",
       "Afghanistan                       19.0               NaN   \n",
       "Albania                           36.0               NaN   \n",
       "\n",
       "             IMD World Competitiveness Yearbook  Bertelsmann Foundation SGI  \\\n",
       "country                                                                       \n",
       "Afghanistan                                 NaN                         NaN   \n",
       "Albania                                     NaN                         NaN   \n",
       "\n",
       "             World Justice Project ROL    ...     IHS Global Insight  \\\n",
       "country                                   ...                          \n",
       "Afghanistan                        2.0    ...                   11.0   \n",
       "Albania                           18.0    ...                   32.0   \n",
       "\n",
       "             PERC Asia Risk Guide  Freedom House NIT  Number of Sources  \\\n",
       "country                                                                   \n",
       "Afghanistan                   NaN                NaN                  4   \n",
       "Albania                       NaN               37.0                  7   \n",
       "\n",
       "             Std Deviation of Sources  Standard Error  Minimum  Maximum  \\\n",
       "country                                                                   \n",
       "Afghanistan                      6.98            3.49        2       19   \n",
       "Albania                          9.48            3.58       18       49   \n",
       "\n",
       "             Lower CI  Upper CI  \n",
       "country                          \n",
       "Afghanistan    5.2415   16.7585  \n",
       "Albania       30.0930   41.9070  \n",
       "\n",
       "[2 rows x 22 columns]"
      ]
     },
     "execution_count": 23,
     "metadata": {},
     "output_type": "execute_result"
    }
   ],
   "source": [
    "CPI = pd.read_excel('Datasets/Corruption/Data & methodology/Data/CPI 2015_data.xlsx', index_col=2)\n",
    "CPI.index.rename('country', inplace=True)\n",
    "CPI.sort_index(inplace=True)\n",
    "CPI.drop(['Region', 'Rank2', 'Country2', 'CPI2015(2)'], axis=1, inplace=True)\n",
    "CPI.head(2)"
   ]
  },
  {
   "cell_type": "markdown",
   "metadata": {},
   "source": [
    "## GINI Indicator"
   ]
  },
  {
   "cell_type": "code",
   "execution_count": 24,
   "metadata": {
    "collapsed": false
   },
   "outputs": [],
   "source": [
    "wb.search('GINI');"
   ]
  },
  {
   "cell_type": "code",
   "execution_count": 25,
   "metadata": {
    "collapsed": false,
    "scrolled": true
   },
   "outputs": [
    {
     "name": "stderr",
     "output_type": "stream",
     "text": [
      "/Users/steffen/anaconda/lib/python3.5/site-packages/pandas_datareader/wb.py:159: FutureWarning: convert_objects is deprecated.  Use the data-type specific converters pd.to_datetime, pd.to_timedelta and pd.to_numeric.\n",
      "  out = out.convert_objects(convert_numeric=True)\n"
     ]
    }
   ],
   "source": [
    "gini = get_wb_df('SI.POV.GINI', 'SI.POV.GINI - Gini Index')\n",
    "gini = pd.DataFrame(mrv(gini))\n",
    "gini= gini.rename(index=any_name_to_wb_name.to_dict())"
   ]
  },
  {
   "cell_type": "markdown",
   "metadata": {},
   "source": [
    "## Remittances"
   ]
  },
  {
   "cell_type": "code",
   "execution_count": 26,
   "metadata": {
    "collapsed": false
   },
   "outputs": [],
   "source": [
    "wb.search('remittances');"
   ]
  },
  {
   "cell_type": "code",
   "execution_count": 27,
   "metadata": {
    "collapsed": false
   },
   "outputs": [
    {
     "name": "stderr",
     "output_type": "stream",
     "text": [
      "/Users/steffen/anaconda/lib/python3.5/site-packages/pandas_datareader/wb.py:159: FutureWarning: convert_objects is deprecated.  Use the data-type specific converters pd.to_datetime, pd.to_timedelta and pd.to_numeric.\n",
      "  out = out.convert_objects(convert_numeric=True)\n"
     ]
    }
   ],
   "source": [
    "remittances_received_gdp = get_wb_df('BX.TRF.PWKR.DT.GD.ZS','BX.TRF.PWKR.DT.GD.ZS - pers. remittances received, % GDP')\n",
    "remittances_received_gdp = pd.DataFrame(mrv(remittances_received_gdp)).rename(index=any_name_to_wb_name)"
   ]
  },
  {
   "cell_type": "code",
   "execution_count": 28,
   "metadata": {
    "collapsed": false
   },
   "outputs": [
    {
     "name": "stderr",
     "output_type": "stream",
     "text": [
      "/Users/steffen/anaconda/lib/python3.5/site-packages/pandas_datareader/wb.py:159: FutureWarning: convert_objects is deprecated.  Use the data-type specific converters pd.to_datetime, pd.to_timedelta and pd.to_numeric.\n",
      "  out = out.convert_objects(convert_numeric=True)\n"
     ]
    }
   ],
   "source": [
    "remittances_received_usd = get_wb_df('BX.TRF.PWKR.CD.DT','BX.TRF.PWKR.CD.DT - pers. remittances received, curr. US$')\n",
    "remittances_received_usd = pd.DataFrame(mrv(remittances_received_usd)).rename(index=any_name_to_wb_name)"
   ]
  },
  {
   "cell_type": "code",
   "execution_count": 29,
   "metadata": {
    "collapsed": true
   },
   "outputs": [],
   "source": [
    "remittances = pd.concat([remittances_received_usd, remittances_received_gdp], axis=1)"
   ]
  },
  {
   "cell_type": "code",
   "execution_count": 30,
   "metadata": {
    "collapsed": false
   },
   "outputs": [],
   "source": [
    "remittances.index.rename('country', inplace=True)"
   ]
  },
  {
   "cell_type": "markdown",
   "metadata": {},
   "source": [
    "## GDP"
   ]
  },
  {
   "cell_type": "code",
   "execution_count": 31,
   "metadata": {
    "collapsed": false,
    "scrolled": true
   },
   "outputs": [
    {
     "data": {
      "text/html": [
       "<div>\n",
       "<table border=\"1\" class=\"dataframe\">\n",
       "  <thead>\n",
       "    <tr style=\"text-align: right;\">\n",
       "      <th></th>\n",
       "      <th>id</th>\n",
       "      <th>name</th>\n",
       "      <th>source</th>\n",
       "      <th>sourceNote</th>\n",
       "      <th>sourceOrganization</th>\n",
       "      <th>topics</th>\n",
       "    </tr>\n",
       "  </thead>\n",
       "  <tbody>\n",
       "    <tr>\n",
       "      <th>7455</th>\n",
       "      <td>NY.GDP.MKTP.PP.CD</td>\n",
       "      <td>GDP, PPP (current international $)</td>\n",
       "      <td>World Development Indicators</td>\n",
       "      <td>PPP GDP is gross domestic product converted to international dollars using purchasing power parity rates. An international dollar has the same purchasing power over GDP as the U.S. dollar has in t...</td>\n",
       "      <td>b'World Bank, International Comparison Program database.'</td>\n",
       "      <td>Economy &amp; Growth</td>\n",
       "    </tr>\n",
       "  </tbody>\n",
       "</table>\n",
       "</div>"
      ],
      "text/plain": [
       "                     id                                name  \\\n",
       "7455  NY.GDP.MKTP.PP.CD  GDP, PPP (current international $)   \n",
       "\n",
       "                            source  \\\n",
       "7455  World Development Indicators   \n",
       "\n",
       "                                                                                                                                                                                                   sourceNote  \\\n",
       "7455  PPP GDP is gross domestic product converted to international dollars using purchasing power parity rates. An international dollar has the same purchasing power over GDP as the U.S. dollar has in t...   \n",
       "\n",
       "                                             sourceOrganization  \\\n",
       "7455  b'World Bank, International Comparison Program database.'   \n",
       "\n",
       "                topics  \n",
       "7455  Economy & Growth  "
      ]
     },
     "execution_count": 31,
     "metadata": {},
     "output_type": "execute_result"
    }
   ],
   "source": [
    "gdp = wb.search('GDP')\n",
    "gdp.query('name==\"GDP, PPP (current international $)\"')"
   ]
  },
  {
   "cell_type": "code",
   "execution_count": 32,
   "metadata": {
    "collapsed": false
   },
   "outputs": [
    {
     "name": "stderr",
     "output_type": "stream",
     "text": [
      "/Users/steffen/anaconda/lib/python3.5/site-packages/pandas_datareader/wb.py:159: FutureWarning: convert_objects is deprecated.  Use the data-type specific converters pd.to_datetime, pd.to_timedelta and pd.to_numeric.\n",
      "  out = out.convert_objects(convert_numeric=True)\n"
     ]
    }
   ],
   "source": [
    "gdp = get_wb_df('NY.GDP.MKTP.PP.CD','GDP per cap, PPP')\n",
    "gdp = mrv(gdp)\n",
    "gdp = pd.DataFrame(gdp).rename(index=any_name_to_wb_name)"
   ]
  },
  {
   "cell_type": "markdown",
   "metadata": {},
   "source": [
    "## Regions"
   ]
  },
  {
   "cell_type": "code",
   "execution_count": 33,
   "metadata": {
    "collapsed": false
   },
   "outputs": [],
   "source": [
    "country_classification = wb.get_countries()\n",
    "country_classification = country_classification[['name', 'iso3c', 'incomeLevel', 'region']]"
   ]
  },
  {
   "cell_type": "markdown",
   "metadata": {},
   "source": [
    "## Country income groups"
   ]
  },
  {
   "cell_type": "code",
   "execution_count": null,
   "metadata": {
    "collapsed": true
   },
   "outputs": [],
   "source": []
  },
  {
   "cell_type": "code",
   "execution_count": null,
   "metadata": {
    "collapsed": true
   },
   "outputs": [],
   "source": []
  },
  {
   "cell_type": "code",
   "execution_count": null,
   "metadata": {
    "collapsed": true
   },
   "outputs": [],
   "source": []
  },
  {
   "cell_type": "markdown",
   "metadata": {},
   "source": [
    "## Save everything to csv files"
   ]
  },
  {
   "cell_type": "code",
   "execution_count": 34,
   "metadata": {
    "collapsed": false
   },
   "outputs": [],
   "source": [
    "remittances.to_csv('Datasets/WDI remittances.csv', encoding='utf-8')\n",
    "gdp.to_csv('Datasets/GDP_pc_PPP.csv', encoding='utf-8')\n",
    "gini.to_csv('Datasets/WDI GINI.csv', encoding='utf-8')\n",
    "CPI.to_csv('Datasets/CPI_2015.csv',  encoding='utf-8')\n",
    "PV.to_csv('Datasets/WGI Political Stability and Violence.csv',  encoding='utf-8')\n",
    "GE.to_csv('Datasets/WGI Government Effectiveness.csv',  encoding='utf-8')\n",
    "savings_data_p40.to_csv('Datasets/FINDEX saved_p40.csv',  encoding='utf-8')\n",
    "savings_data_r60.to_csv('Datasets/FINDEX saved_r60.csv',  encoding='utf-8')\n",
    "wb_data_inc20.to_csv('Datasets/WDI SI.DST.FRST.20.csv', encoding='utf-8')\n",
    "country_classification.to_csv('Datasets/WB country_categories.csv', encoding='utf-8')"
   ]
  },
  {
   "cell_type": "code",
   "execution_count": null,
   "metadata": {
    "collapsed": true
   },
   "outputs": [],
   "source": []
  },
  {
   "cell_type": "code",
   "execution_count": null,
   "metadata": {
    "collapsed": true
   },
   "outputs": [],
   "source": []
  },
  {
   "cell_type": "code",
   "execution_count": null,
   "metadata": {
    "collapsed": true
   },
   "outputs": [],
   "source": []
  },
  {
   "cell_type": "code",
   "execution_count": null,
   "metadata": {
    "collapsed": true
   },
   "outputs": [],
   "source": []
  },
  {
   "cell_type": "code",
   "execution_count": null,
   "metadata": {
    "collapsed": true
   },
   "outputs": [],
   "source": []
  },
  {
   "cell_type": "code",
   "execution_count": null,
   "metadata": {
    "collapsed": true
   },
   "outputs": [],
   "source": []
  }
 ],
 "metadata": {
  "kernelspec": {
   "display_name": "Python 3",
   "language": "python",
   "name": "python3"
  },
  "language_info": {
   "codemirror_mode": {
    "name": "ipython",
    "version": 3
   },
   "file_extension": ".py",
   "mimetype": "text/x-python",
   "name": "python",
   "nbconvert_exporter": "python",
   "pygments_lexer": "ipython3",
   "version": "3.5.1"
  }
 },
 "nbformat": 4,
 "nbformat_minor": 0
}
